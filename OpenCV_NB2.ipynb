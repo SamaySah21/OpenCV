{
 "cells": [
  {
   "cell_type": "code",
   "execution_count": 19,
   "metadata": {},
   "outputs": [],
   "source": [
    "# IMport the library\n",
    "import cv2"
   ]
  },
  {
   "cell_type": "code",
   "execution_count": 20,
   "metadata": {},
   "outputs": [
    {
     "data": {
      "text/plain": [
       "-1"
      ]
     },
     "execution_count": 20,
     "metadata": {},
     "output_type": "execute_result"
    }
   ],
   "source": [
    "## read the image\n",
    "img = cv2.imread(\"C:\\machine learning\\opencv\\opencv_cordinate_system.jpg\")\n",
    "cv2.imshow(\"HilliaryImage\", img)\n",
    "cv2.waitKey(0)"
   ]
  },
  {
   "cell_type": "markdown",
   "metadata": {},
   "source": [
    "#### General co-ordinate system has positive X-axis towards East & positive Y-axis towards North.\n",
    "#### While in opencv, positive X-axis is also towards East but positive Y-axis is toward South as can be seen in above diagram.\n",
    "#### Origin is also at top."
   ]
  },
  {
   "cell_type": "markdown",
   "metadata": {},
   "source": [
    "### RESIZE of image"
   ]
  },
  {
   "cell_type": "code",
   "execution_count": 21,
   "metadata": {},
   "outputs": [
    {
     "name": "stdout",
     "output_type": "stream",
     "text": [
      "(715, 1515, 3)\n"
     ]
    }
   ],
   "source": [
    "## To get dimesion of current image .. use shape method\n",
    "print(img.shape)\n",
    "## this gives output in height, width, no. of channels format"
   ]
  },
  {
   "cell_type": "code",
   "execution_count": 22,
   "metadata": {},
   "outputs": [
    {
     "name": "stdout",
     "output_type": "stream",
     "text": [
      "(200, 300, 3)\n"
     ]
    }
   ],
   "source": [
    "## resizing it by using resize method\n",
    "## (300,200) : width - 300, hight - 200\n",
    "img_resize_reduced = cv2.resize(img, (300,200))\n",
    "print(img_resize_reduced.shape)"
   ]
  },
  {
   "cell_type": "code",
   "execution_count": 23,
   "metadata": {},
   "outputs": [
    {
     "data": {
      "text/plain": [
       "-1"
      ]
     },
     "execution_count": 23,
     "metadata": {},
     "output_type": "execute_result"
    }
   ],
   "source": [
    "## Viewing resized image\n",
    "cv2.imshow(\"Resize Image\", img_resize_reduced)\n",
    "cv2.waitKey(0)"
   ]
  },
  {
   "cell_type": "code",
   "execution_count": 25,
   "metadata": {},
   "outputs": [
    {
     "name": "stdout",
     "output_type": "stream",
     "text": [
      "(1600, 1200, 3)\n"
     ]
    }
   ],
   "source": [
    "img_resize_increased = cv2.resize(img, (1200,1600))\n",
    "print(img_resize_increased.shape)"
   ]
  },
  {
   "cell_type": "code",
   "execution_count": 26,
   "metadata": {},
   "outputs": [
    {
     "data": {
      "text/plain": [
       "-1"
      ]
     },
     "execution_count": 26,
     "metadata": {},
     "output_type": "execute_result"
    }
   ],
   "source": [
    "## Viewing resized image\n",
    "cv2.imshow(\"Resize Image\", img_resize_increased)\n",
    "cv2.waitKey(0)"
   ]
  },
  {
   "cell_type": "code",
   "execution_count": 28,
   "metadata": {},
   "outputs": [
    {
     "data": {
      "text/plain": [
       "-1"
      ]
     },
     "execution_count": 28,
     "metadata": {},
     "output_type": "execute_result"
    }
   ],
   "source": [
    "### ImAGE CROP\n",
    "\n",
    "## for crop image we dont want opencv \n",
    "## height, width : format\n",
    "crop_image = img[0:350, 200:500]\n",
    "## Display the crop image\n",
    "cv2.imshow(\"Cropped Image\", crop_image)\n",
    "cv2.waitKey(0)"
   ]
  }
 ],
 "metadata": {
  "kernelspec": {
   "display_name": "Python 3",
   "language": "python",
   "name": "python3"
  },
  "language_info": {
   "codemirror_mode": {
    "name": "ipython",
    "version": 3
   },
   "file_extension": ".py",
   "mimetype": "text/x-python",
   "name": "python",
   "nbconvert_exporter": "python",
   "pygments_lexer": "ipython3",
   "version": "3.7.6"
  }
 },
 "nbformat": 4,
 "nbformat_minor": 4
}
