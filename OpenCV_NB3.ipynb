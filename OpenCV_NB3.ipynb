{
 "cells": [
  {
   "cell_type": "markdown",
   "metadata": {},
   "source": [
    "### SHAPES AND TEXTS"
   ]
  },
  {
   "cell_type": "code",
   "execution_count": 41,
   "metadata": {},
   "outputs": [],
   "source": [
    "# Import the library\n",
    "import cv2\n",
    "import numpy as np"
   ]
  },
  {
   "cell_type": "code",
   "execution_count": 42,
   "metadata": {},
   "outputs": [
    {
     "name": "stdout",
     "output_type": "stream",
     "text": [
      "(512, 512, 3)\n"
     ]
    }
   ],
   "source": [
    "## Create image(black)\n",
    "\n",
    "img = np.zeros((512,512,3))\n",
    "\n",
    "cv2.imshow(\"output\", img) ## black image\n",
    "cv2.waitKey(0)\n",
    "print(img.shape)"
   ]
  },
  {
   "cell_type": "code",
   "execution_count": 44,
   "metadata": {},
   "outputs": [
    {
     "data": {
      "text/plain": [
       "-1"
      ]
     },
     "execution_count": 44,
     "metadata": {},
     "output_type": "execute_result"
    }
   ],
   "source": [
    "## img[:,:] = cropped image part\n",
    "## colored image (BGR = 255,0,0)\n",
    "\n",
    "img[100:400, 100:350] = 255,0,0\n",
    "\n",
    "#Display Image\n",
    "cv2.imshow(\"output\", img)\n",
    "cv2.waitKey(0)"
   ]
  },
  {
   "cell_type": "code",
   "execution_count": 45,
   "metadata": {},
   "outputs": [
    {
     "data": {
      "text/plain": [
       "-1"
      ]
     },
     "execution_count": 45,
     "metadata": {},
     "output_type": "execute_result"
    }
   ],
   "source": [
    "## Create line on image\n",
    "## params: image, start cordinate, end cordintae, color(BGR), width\n",
    "img = np.zeros((512,512,3))\n",
    "cv2.line(img, (0,0), (300,300), (0,255,0), 3)\n",
    "#Display Image\n",
    "cv2.imshow(\"output\", img)\n",
    "cv2.waitKey(0)"
   ]
  },
  {
   "cell_type": "code",
   "execution_count": 46,
   "metadata": {},
   "outputs": [
    {
     "data": {
      "text/plain": [
       "-1"
      ]
     },
     "execution_count": 46,
     "metadata": {},
     "output_type": "execute_result"
    }
   ],
   "source": [
    "## Image line till end \n",
    "img = np.zeros((512,512,3))\n",
    "cv2.line(img, (0,0), (img.shape[1],img.shape[0]), (0,255,0), 3)\n",
    "#Display Image\n",
    "cv2.imshow(\"output\", img)\n",
    "cv2.waitKey(0)"
   ]
  },
  {
   "cell_type": "markdown",
   "metadata": {},
   "source": [
    "#### RECTANGLE"
   ]
  },
  {
   "cell_type": "code",
   "execution_count": 47,
   "metadata": {},
   "outputs": [
    {
     "data": {
      "text/plain": [
       "-1"
      ]
     },
     "execution_count": 47,
     "metadata": {},
     "output_type": "execute_result"
    }
   ],
   "source": [
    "# Draw rectangle on image(bounding boxes)\n",
    "## Same as line\n",
    "## params: image, start cordinate, diagonal cordintae, color(BGR), width\n",
    "img = np.zeros((512,512,3))\n",
    "cv2.rectangle(img, (0,0), (200, 300), (0,0,245), 3)\n",
    "cv2.imshow(\"Bounding Boxes\", img)\n",
    "cv2.waitKey(0)"
   ]
  },
  {
   "cell_type": "code",
   "execution_count": 49,
   "metadata": {},
   "outputs": [
    {
     "data": {
      "text/plain": [
       "-1"
      ]
     },
     "execution_count": 49,
     "metadata": {},
     "output_type": "execute_result"
    }
   ],
   "source": [
    "### Fill Rectangle : \"cv2_FILLED\" in place of thickness\n",
    "img = np.zeros((512,512,3))\n",
    "cv2.rectangle(img, (0,0), (200, 300), (0,0,245), cv2.FILLED)\n",
    "cv2.imshow(\"Bounding Boxes\", img)\n",
    "cv2.waitKey(0)"
   ]
  },
  {
   "cell_type": "markdown",
   "metadata": {},
   "source": [
    "#### CIRCLE"
   ]
  },
  {
   "cell_type": "code",
   "execution_count": 50,
   "metadata": {},
   "outputs": [
    {
     "data": {
      "text/plain": [
       "-1"
      ]
     },
     "execution_count": 50,
     "metadata": {},
     "output_type": "execute_result"
    }
   ],
   "source": [
    "## Use circle function of opencv\n",
    "## Params: image, center cordinate, radius, color(BGR), thickness\n",
    "\n",
    "img = np.zeros((512,512,3))\n",
    "cv2.circle(img, (300,200), 50, (0,0,245), 2)\n",
    "cv2.imshow(\"Circle on Image\", img)\n",
    "cv2.waitKey(0)"
   ]
  },
  {
   "cell_type": "markdown",
   "metadata": {},
   "source": [
    "#### Text on Image"
   ]
  },
  {
   "cell_type": "code",
   "execution_count": 53,
   "metadata": {},
   "outputs": [
    {
     "data": {
      "text/plain": [
       "-1"
      ]
     },
     "execution_count": 53,
     "metadata": {},
     "output_type": "execute_result"
    }
   ],
   "source": [
    "## Use \"putText\" function of opencv\n",
    "## Params: image, text, cordinate from left bottom, font style,  scale, color(BGR), thickness\n",
    "\n",
    "img = np.zeros((512,512,3))\n",
    "cv2.putText(img, \" Learning OpenCV \", (100,200), cv2.FONT_HERSHEY_COMPLEX, 1, (0,145,0), 2)\n",
    "cv2.imshow(\"Circle on Image\", img)\n",
    "cv2.waitKey(0)"
   ]
  },
  {
   "cell_type": "code",
   "execution_count": 54,
   "metadata": {},
   "outputs": [
    {
     "name": "stdout",
     "output_type": "stream",
     "text": [
      "As we can see scale = 2 , text is going outside the image \n",
      "\n",
      "We can give scale = 0.3, 0.5, 0.75 etc, any value between 0 to 1 will keep text in scale with image\n"
     ]
    }
   ],
   "source": [
    "## Use putText function of opencv\n",
    "## Params: image, text, cordinate from left bottom, font style,  scale, color(BGR), thickness\n",
    "img = np.zeros((512,512,3))\n",
    "## put scale : 2\n",
    "cv2.putText(img, \" Learning OpenCV \", (100,200), cv2.FONT_HERSHEY_COMPLEX, 2, (0,145,0), 2)\n",
    "cv2.imshow(\"Circle on Image\", img)\n",
    "cv2.waitKey(0)\n",
    "print(\"As we can see scale = 2 , text is going outside the image \")\n",
    "print(\"\")\n",
    "print(\"We can give scale = 0.3, 0.5, 0.75 etc, any value between 0 to 1 will keep text in scale with image\")"
   ]
  }
 ],
 "metadata": {
  "kernelspec": {
   "display_name": "Python 3",
   "language": "python",
   "name": "python3"
  },
  "language_info": {
   "codemirror_mode": {
    "name": "ipython",
    "version": 3
   },
   "file_extension": ".py",
   "mimetype": "text/x-python",
   "name": "python",
   "nbconvert_exporter": "python",
   "pygments_lexer": "ipython3",
   "version": "3.7.6"
  }
 },
 "nbformat": 4,
 "nbformat_minor": 4
}
